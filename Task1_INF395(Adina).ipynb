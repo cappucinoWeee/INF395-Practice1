{
 "cells": [
  {
   "cell_type": "code",
   "execution_count": null,
   "id": "8744216c-ac11-421d-9c7b-471d36578f63",
   "metadata": {},
   "outputs": [
    {
     "name": "stdout",
     "output_type": "stream",
     "text": [
      "\n",
      "Lost and Found System\n",
      "1. Report a found item\n",
      "2. Search for a lost item\n",
      "3. View all unclaimed items\n",
      "4. Claim an item\n",
      "5. Exit\n"
     ]
    },
    {
     "name": "stdin",
     "output_type": "stream",
     "text": [
      "Choose an option:  2\n",
      "Enter search keyword:  shirt\n"
     ]
    },
    {
     "name": "stdout",
     "output_type": "stream",
     "text": [
      "No matching items found.\n",
      "\n",
      "Lost and Found System\n",
      "1. Report a found item\n",
      "2. Search for a lost item\n",
      "3. View all unclaimed items\n",
      "4. Claim an item\n",
      "5. Exit\n"
     ]
    },
    {
     "name": "stdin",
     "output_type": "stream",
     "text": [
      "Choose an option:  1\n",
      "Enter item name:  shirt\n",
      "Enter category:  clothes\n",
      "Enter location found:  university\n",
      "Enter date found (YYYY-MM-DD):  2025-01-10\n"
     ]
    },
    {
     "name": "stdout",
     "output_type": "stream",
     "text": [
      "Item reported successfully!\n",
      "\n",
      "Lost and Found System\n",
      "1. Report a found item\n",
      "2. Search for a lost item\n",
      "3. View all unclaimed items\n",
      "4. Claim an item\n",
      "5. Exit\n"
     ]
    },
    {
     "name": "stdin",
     "output_type": "stream",
     "text": [
      "Choose an option:  2\n",
      "Enter search keyword:  shirt\n"
     ]
    },
    {
     "name": "stdout",
     "output_type": "stream",
     "text": [
      "(1, 'shirt', 'clothes', 'university', '2025-01-10', 'No')\n",
      "\n",
      "Lost and Found System\n",
      "1. Report a found item\n",
      "2. Search for a lost item\n",
      "3. View all unclaimed items\n",
      "4. Claim an item\n",
      "5. Exit\n"
     ]
    }
   ],
   "source": [
    "import sqlite3\n",
    "\n",
    "# creating a database\n",
    "def initialize_db():\n",
    "    conn = sqlite3.connect(\"lost_and_found.db\")\n",
    "    cursor = conn.cursor()\n",
    "    cursor.execute('''CREATE TABLE IF NOT EXISTS items (\n",
    "                        id INTEGER PRIMARY KEY AUTOINCREMENT,\n",
    "                        item_name TEXT,\n",
    "                        category TEXT,\n",
    "                        location_found TEXT,\n",
    "                        date_found TEXT,\n",
    "                        claimed_status TEXT\n",
    "                    )''')\n",
    "    conn.commit()\n",
    "    conn.close()\n",
    "    \n",
    "\n",
    "#report for a found item\n",
    "def report_item(item_name, category, location_found, date_found):\n",
    "    conn = sqlite3.connect(\"lost_and_found.db\")\n",
    "    cursor = conn.cursor()\n",
    "    cursor.execute(\"INSERT INTO items (item_name, category, location_found, date_found, claimed_status) VALUES (?, ?, ?, ?, 'No')\", \n",
    "                   (item_name, category, location_found, date_found))\n",
    "    conn.commit()\n",
    "    conn.close()\n",
    "    print(\"Item reported successfully!\")\n",
    "\n",
    "\n",
    "\n",
    "\n",
    "# function to search for an item\n",
    "def search_items(keyword):\n",
    "    conn = sqlite3.connect(\"lost_and_found.db\")\n",
    "    cursor = conn.cursor()\n",
    "    cursor.execute(\"SELECT * FROM items WHERE item_name LIKE ? OR category LIKE ? OR location_found LIKE ?\", \n",
    "                   ('%' + keyword + '%', '%' + keyword + '%', '%' + keyword + '%'))\n",
    "    results = cursor.fetchall()\n",
    "    conn.close()\n",
    "    if results:\n",
    "        for item in results:\n",
    "            print(item)\n",
    "    else:\n",
    "        print(\"No matching items found.\")\n",
    "\n",
    "\n",
    "\n",
    "def view_unclaimed_items():\n",
    "    conn = sqlite3.connect(\"lost_and_found.db\")\n",
    "    cursor = conn.cursor()\n",
    "    cursor.execute(\"SELECT * FROM items WHERE claimed_status = 'No'\")\n",
    "    results = cursor.fetchall()\n",
    "    conn.close()\n",
    "    if results:\n",
    "        for item in results:\n",
    "            print(item)\n",
    "    else:\n",
    "        print(\"No unclaimed items available.\")\n",
    "\n",
    "# report for a found item\n",
    "def claim_item(item_id):\n",
    "    conn = sqlite3.connect(\"lost_and_found.db\")\n",
    "    cursor = conn.cursor()\n",
    "    cursor.execute(\"UPDATE items SET claimed_status = 'Yes' WHERE id = ? AND claimed_status = 'No'\", (item_id,))\n",
    "    conn.commit()\n",
    "    if cursor.rowcount > 0:\n",
    "        print(\"Item successfully claimed!\")\n",
    "    else:\n",
    "        print(\"Item not found or already claimed.\")\n",
    "    conn.close()\n",
    "\n",
    "if __name__ == \"__main__\":\n",
    "    initialize_db()\n",
    "    while True:\n",
    "        print(\"\\nLost and Found System\")\n",
    "        print(\"1. Report a found item\")\n",
    "        print(\"2. Search for a lost item\")\n",
    "        print(\"3. View all unclaimed items\")\n",
    "        print(\"4. Claim an item\")\n",
    "        print(\"5. Exit\")\n",
    "        choice = input(\"Choose an option: \")\n",
    "        \n",
    "        if choice == \"1\":\n",
    "            item_name = input(\"Enter item name: \")\n",
    "            category = input(\"Enter category: \")\n",
    "            location = input(\"Enter location found: \")\n",
    "            date = input(\"Enter date found (YYYY-MM-DD): \")\n",
    "            report_item(item_name, category, location, date)\n",
    "        elif choice == \"2\":\n",
    "            keyword = input(\"Enter search keyword: \")\n",
    "            search_items(keyword)\n",
    "        elif choice == \"3\":\n",
    "            view_unclaimed_items()\n",
    "        elif choice == \"4\":\n",
    "            item_id = input(\"Enter the ID of the item to claim: \")\n",
    "            claim_item(item_id)\n",
    "        elif choice == \"5\":\n",
    "            print(\"Goodbye!\")\n",
    "            break\n",
    "        else:\n",
    "            print(\"Invalid choice. Please try again.\")\n"
   ]
  },
  {
   "cell_type": "code",
   "execution_count": null,
   "id": "6d40a493-9838-4995-ae38-0ec6bf8e0e26",
   "metadata": {},
   "outputs": [],
   "source": []
  }
 ],
 "metadata": {
  "kernelspec": {
   "display_name": "Python 3 (ipykernel)",
   "language": "python",
   "name": "python3"
  },
  "language_info": {
   "codemirror_mode": {
    "name": "ipython",
    "version": 3
   },
   "file_extension": ".py",
   "mimetype": "text/x-python",
   "name": "python",
   "nbconvert_exporter": "python",
   "pygments_lexer": "ipython3",
   "version": "3.12.4"
  }
 },
 "nbformat": 4,
 "nbformat_minor": 5
}
